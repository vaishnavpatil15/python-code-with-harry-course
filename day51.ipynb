{
 "cells": [
  {
   "cell_type": "code",
   "execution_count": 9,
   "metadata": {},
   "outputs": [
    {
     "name": "stdout",
     "output_type": "stream",
     "text": [
      "<class '_io.TextIOWrapper'>\n",
      "! mi jewlo\n",
      " tuu?\n"
     ]
    }
   ],
   "source": [
    "with open('text.txt','r') as f:\n",
    "    print(type(f))\n",
    "    f.seek(5)\n",
    "    print(f.read(10))\n",
    "    data=f.read(5)\n",
    "    print(data)\n",
    "    "
   ]
  },
  {
   "cell_type": "code",
   "execution_count": 13,
   "metadata": {},
   "outputs": [
    {
     "name": "stdout",
     "output_type": "stream",
     "text": [
      "8\n",
      "4.0\n"
     ]
    }
   ],
   "source": [
    "# def double(x):\n",
    "#     return x*2\n",
    "# print(double(4))\n",
    "\n",
    "double=lambda x:x*2\n",
    "\n",
    "print(double(4))\n",
    "avg=lambda x ,y,z : (x+y+z)/3\n",
    "print(avg(3,4,5))\n"
   ]
  },
  {
   "cell_type": "code",
   "execution_count": 19,
   "metadata": {},
   "outputs": [
    {
     "name": "stdout",
     "output_type": "stream",
     "text": [
      "<map object at 0x000001D467B98DC0>\n",
      "[1, 4, 9, 16, 25]\n",
      "[3, 4, 5]\n",
      "15\n"
     ]
    }
   ],
   "source": [
    "def square(x):\n",
    "    return x*x\n",
    "l=[1,2,3,4,5]\n",
    "\n",
    "newList=list(map(square,l))\n",
    "print(map(square,l))\n",
    "print(newList)\n",
    "\n",
    "def function(a):\n",
    "    return a>2\n",
    "newList=list(filter(function,l))\n",
    "print(newList)\n",
    "\n",
    "from functools import reduce\n",
    "\n",
    "def mysum(x,y):\n",
    "    return x+y\n",
    "\n",
    "sum=reduce(mysum,l)\n",
    "print(sum)\n"
   ]
  },
  {
   "cell_type": "code",
   "execution_count": 4,
   "metadata": {},
   "outputs": [
    {
     "name": "stdout",
     "output_type": "stream",
     "text": [
      "False\n",
      "True\n",
      "True\n",
      "True\n",
      "False\n",
      "True\n"
     ]
    }
   ],
   "source": [
    "a=[1,2,3]\n",
    "b=[1,2,3,]\n",
    "print(a is b)\n",
    "print(a==b)\n",
    "\n",
    "a=8\n",
    "b=8\n",
    "print(a is b)\n",
    "print(a==b)\n",
    "\n",
    "a=(1,2,3)\n",
    "b=(1,2,3)\n",
    "print(a is b)\n",
    "print(a==b)\n",
    "\n"
   ]
  },
  {
   "cell_type": "code",
   "execution_count": null,
   "metadata": {},
   "outputs": [],
   "source": []
  }
 ],
 "metadata": {
  "kernelspec": {
   "display_name": "Python 3",
   "language": "python",
   "name": "python3"
  },
  "language_info": {
   "codemirror_mode": {
    "name": "ipython",
    "version": 3
   },
   "file_extension": ".py",
   "mimetype": "text/x-python",
   "name": "python",
   "nbconvert_exporter": "python",
   "pygments_lexer": "ipython3",
   "version": "3.11.9"
  }
 },
 "nbformat": 4,
 "nbformat_minor": 2
}
