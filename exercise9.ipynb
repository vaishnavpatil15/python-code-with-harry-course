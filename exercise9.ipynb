{
 "cells": [
  {
   "cell_type": "code",
   "execution_count": 2,
   "metadata": {},
   "outputs": [
    {
     "ename": "",
     "evalue": "",
     "output_type": "error",
     "traceback": [
      "\u001b[1;31mThe Kernel crashed while executing code in the current cell or a previous cell. \n",
      "\u001b[1;31mPlease review the code in the cell(s) to identify a possible cause of the failure. \n",
      "\u001b[1;31mClick <a href='https://aka.ms/vscodeJupyterKernelCrash'>here</a> for more info. \n",
      "\u001b[1;31mView Jupyter <a href='command:jupyter.viewOutput'>log</a> for further details."
     ]
    }
   ],
   "source": [
    "import win32com.client as wincl\n",
    "speaker=wincl.Dispatch(\"SAPI.SpVoice\")\n",
    "\n",
    "l=[\"harry\",\"rohan\",\"ram\"]\n",
    "\n",
    "for i in l:\n",
    "    speaker.speak(\"shout out to \" + i)\n"
   ]
  },
  {
   "cell_type": "code",
   "execution_count": 1,
   "metadata": {},
   "outputs": [
    {
     "data": {
      "text/plain": [
       "1"
      ]
     },
     "execution_count": 1,
     "metadata": {},
     "output_type": "execute_result"
    }
   ],
   "source": []
  },
  {
   "cell_type": "code",
   "execution_count": null,
   "metadata": {},
   "outputs": [],
   "source": []
  },
  {
   "cell_type": "code",
   "execution_count": null,
   "metadata": {},
   "outputs": [],
   "source": [
    "import win32com.client as wincl\n",
    "\n",
    "speaker_number = 1\n",
    "spk = wincl.Dispatch(\"SAPI.SpVoice\")\n",
    "vcs = spk.GetVoices()\n",
    "SVSFlag = 11\n",
    "print(vcs.Item (speaker_number) .GetAttribute (\"Name\")) # speaker name\n",
    "spk.Voice\n",
    "spk.SetVoice(vcs.Item(speaker_number)) # set voice (see Windows Text-to-Speech settings)\n",
    "spk.Speak(\"Hello, it works!\")"
   ]
  },
  {
   "cell_type": "code",
   "execution_count": null,
   "metadata": {},
   "outputs": [],
   "source": [
    "# Python program to convert \n",
    "# text to speech \n",
    "\n",
    "# import the required module from text to speech conversion \n",
    "import win32com.client \n",
    "\n",
    "# Calling the Dispatch method of the module which \n",
    "# interact with Microsoft Speech SDK to speak \n",
    "# the given input from the keyboard \n",
    "\n",
    "speaker = win32com.client.Dispatch(\"SAPI.SpVoice\") \n",
    "\n",
    "while 1: \n",
    "\tprint(\"Enter the word you want to speak it out by computer\") \n",
    "\ts = input() \n",
    "\tspeaker.Speak(s) \n",
    "\n",
    "# To stop the program press \n",
    "# CTRL + Z \n"
   ]
  }
 ],
 "metadata": {
  "kernelspec": {
   "display_name": "Python 3",
   "language": "python",
   "name": "python3"
  },
  "language_info": {
   "codemirror_mode": {
    "name": "ipython",
    "version": 3
   },
   "file_extension": ".py",
   "mimetype": "text/x-python",
   "name": "python",
   "nbconvert_exporter": "python",
   "pygments_lexer": "ipython3",
   "version": "3.11.9"
  }
 },
 "nbformat": 4,
 "nbformat_minor": 2
}
