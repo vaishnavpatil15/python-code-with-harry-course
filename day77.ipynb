{
 "cells": [
  {
   "cell_type": "code",
   "execution_count": 6,
   "metadata": {},
   "outputs": [
    {
     "name": "stdout",
     "output_type": "stream",
     "text": [
      "5 + 7i\n",
      "<class '__main__.Complex'>\n",
      "5 + 7i\n"
     ]
    }
   ],
   "source": [
    "class Complex:\n",
    "    def __init__(self,r,i):\n",
    "        self.real=r\n",
    "        self.img=i\n",
    "\n",
    "    def __str__(self):\n",
    "        return f\"{self.real} + {self.img}i\"\n",
    "    \n",
    "    # def __add__(self,x):\n",
    "    #     return f\"{self.real + x.real} + {self.img + x.img}i \"\n",
    "    \n",
    "    def __add__(self,x):\n",
    "        return Complex(self.real+x.real , self.img+x.img)\n",
    "    \n",
    "c1=Complex(2,6)\n",
    "c2=Complex(3,1)\n",
    "print(c1+c2)\n",
    "print(type(c1+c2))\n",
    "c3=c1+c2\n",
    "print(c3)\n",
    "\n"
   ]
  },
  {
   "cell_type": "code",
   "execution_count": 18,
   "metadata": {},
   "outputs": [
    {
     "name": "stdout",
     "output_type": "stream",
     "text": [
      "{'name': 'tom', 'species': 'cat'}\n",
      "{'name': 'tommy', 'species': 'dog', 'breed': 'lab'}\n",
      "sound created by Animal \n",
      "bark!\n"
     ]
    }
   ],
   "source": [
    "class Animal:\n",
    "    def __init__(self,name,species):\n",
    "        self.name=name\n",
    "        self.species=species\n",
    "\n",
    "    def make_sound(self):\n",
    "        print(\"sound created by Animal \")\n",
    "\n",
    "class dog(Animal):\n",
    "    def __init__(self,name ,breed):\n",
    "        Animal.__init__(self,name,species=\"dog\")\n",
    "        self.breed=breed\n",
    "\n",
    "    def make_sound(self):\n",
    "        print(\"bark!\")\n",
    "\n",
    "\n",
    "a=Animal(\"tom\",\"cat\")\n",
    "b=dog(\"tommy\",\"lab\")\n",
    "\n",
    "print(a.__dict__)\n",
    "print(b.__dict__)\n",
    "\n",
    "a.make_sound()\n",
    "b.make_sound()"
   ]
  },
  {
   "cell_type": "code",
   "execution_count": 23,
   "metadata": {},
   "outputs": [
    {
     "name": "stdout",
     "output_type": "stream",
     "text": [
      "the name is shivani\n",
      "the dance is kathak\n",
      "[<class '__main__.dancerPerson'>, <class '__main__.dancer'>, <class '__main__.Person'>, <class 'object'>]\n"
     ]
    }
   ],
   "source": [
    "class Person:\n",
    "    def __init__(self,name):\n",
    "        self.name=name\n",
    "\n",
    "    def show(self):\n",
    "        print(f\"the name is {self.name}\")\n",
    "\n",
    "class dancer:\n",
    "    def __init__(self,dance):\n",
    "        self.dance=dance\n",
    "\n",
    "    def show(self):\n",
    "        print(f\"the dance is {self.dance}\")\n",
    "\n",
    "class dancerPerson(Person,dancer):\n",
    "    def __init__(self,name,dance):\n",
    "        Person.__init__(self,name)\n",
    "        dancer.__init__(self,dance)\n",
    "\n",
    "\n",
    "a=dancerPerson(\"shivani\",\"kathak\")\n",
    "a.show()\n",
    "\n",
    "\n",
    "class dancerPerson(dancer,Person):\n",
    "    def __init__(self,name,dance):\n",
    "        Person.__init__(self,name)\n",
    "        dancer.__init__(self,dance)\n",
    "\n",
    "b=dancerPerson(\"shivani\",\"kathak\")\n",
    "b.show()\n",
    "print(dancerPerson.mro())"
   ]
  },
  {
   "cell_type": "code",
   "execution_count": 31,
   "metadata": {},
   "outputs": [
    {
     "name": "stdout",
     "output_type": "stream",
     "text": [
      "\n",
      "name : tom \n",
      "species : dog\n",
      "breed : golden retriver\n",
      "color : black\n",
      "\n",
      "name : simba \n",
      "species : dog\n",
      "breed : lab\n",
      "\n",
      "name : cherry \n",
      "species : cat\n"
     ]
    }
   ],
   "source": [
    "class Animal:\n",
    "    def __init__(self,name,species):\n",
    "        self.name=name\n",
    "        self.species=species\n",
    "\n",
    "    def showDetails(self):\n",
    "        print(f\"\\nname : {self.name} \\nspecies : {self.species}\")\n",
    "    \n",
    "\n",
    "class Dog(Animal):\n",
    "    def __init__(self,name, breed):\n",
    "        Animal.__init__(self,name,species=\"dog\")\n",
    "        self.breed=breed\n",
    "\n",
    "    def showDetails(self):\n",
    "        Animal.showDetails(self)\n",
    "        print(f\"breed : {self.breed}\")\n",
    "\n",
    "\n",
    "class goldenRetriver(Dog):\n",
    "    def __init__(self,name, color):\n",
    "        Dog.__init__(self,name,breed=\"golden retriver\")\n",
    "        self.color=color\n",
    "\n",
    "    def showDetails(self):\n",
    "        Dog.showDetails(self)\n",
    "        print(f\"color : {self.color}\")\n",
    "\n",
    "    \n",
    "a=goldenRetriver(\"tom\",\"black\")\n",
    "a.showDetails()\n",
    "b=Dog(\"simba\",\"lab\")\n",
    "b.showDetails()\n",
    "c=Animal(\"cherry\",\"cat\")\n",
    "c.showDetails()"
   ]
  }
 ],
 "metadata": {
  "kernelspec": {
   "display_name": "Python 3",
   "language": "python",
   "name": "python3"
  },
  "language_info": {
   "codemirror_mode": {
    "name": "ipython",
    "version": 3
   },
   "file_extension": ".py",
   "mimetype": "text/x-python",
   "name": "python",
   "nbconvert_exporter": "python",
   "pygments_lexer": "ipython3",
   "version": "3.11.9"
  }
 },
 "nbformat": 4,
 "nbformat_minor": 2
}
