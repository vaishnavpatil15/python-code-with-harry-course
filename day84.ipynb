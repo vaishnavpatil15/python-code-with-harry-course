{
 "cells": [
  {
   "cell_type": "code",
   "execution_count": 9,
   "metadata": {},
   "outputs": [
    {
     "name": "stdout",
     "output_type": "stream",
     "text": [
      "start\n",
      "this is printed after 5 seconds\n",
      "5.005747556686401\n"
     ]
    }
   ],
   "source": [
    "import time\n",
    "t=time.time()\n",
    "i=0\n",
    "while i<110000:\n",
    "    i=i+1\n",
    "print(time.time()-t)\n",
    "\n",
    "print(\"start\")\n",
    "time.sleep(5)\n",
    "print(\"this is printed after 5 seconds\")\n",
    "print(time.time()-t)\n"
   ]
  },
  {
   "cell_type": "code",
   "execution_count": 2,
   "metadata": {},
   "outputs": [
    {
     "name": "stdout",
     "output_type": "stream",
     "text": [
      "22-08-2024 07:05:05\n"
     ]
    }
   ],
   "source": [
    "import time\n",
    "# t=time.localtime()\n",
    "time=time.strftime(\"%d-%m-%Y %H:%M:%S\")\n",
    "\n",
    "print(time)\n",
    "# print(t)"
   ]
  }
 ],
 "metadata": {
  "kernelspec": {
   "display_name": "Python 3",
   "language": "python",
   "name": "python3"
  },
  "language_info": {
   "codemirror_mode": {
    "name": "ipython",
    "version": 3
   },
   "file_extension": ".py",
   "mimetype": "text/x-python",
   "name": "python",
   "nbconvert_exporter": "python",
   "pygments_lexer": "ipython3",
   "version": "3.11.9"
  }
 },
 "nbformat": 4,
 "nbformat_minor": 2
}
