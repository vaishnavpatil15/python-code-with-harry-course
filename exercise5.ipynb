{
 "cells": [
  {
   "cell_type": "code",
   "execution_count": 2,
   "metadata": {},
   "outputs": [
    {
     "name": "stdout",
     "output_type": "stream",
     "text": [
      "\n",
      "Computer choice :SCISSOR\n",
      "Your choice :PAPER\n",
      "\n",
      "\n",
      "You LOST\n"
     ]
    }
   ],
   "source": [
    "import random\n",
    "l=('ROCK','PAPER','SCISSOR')\n",
    "r=('You LOST','DRAW','You WON')\n",
    "set=[   [1,0,2],\n",
    "        [2,1,0],\n",
    "        [0,2,1]    ]\n",
    "\n",
    "a=int(input(\"Enter choice :\\n0) ROCK \\n1) PAPER\\n2) SCISSOR \\n\\n\"))\n",
    "b=random.randint(0,2)\n",
    "\n",
    "print(f\"\\nComputer choice :{l[b]}\\nYour choice :{l[a]}\\n\\n\")\n",
    "\n",
    "print(r[set[a][b]])\n"
   ]
  }
 ],
 "metadata": {
  "kernelspec": {
   "display_name": "Python 3",
   "language": "python",
   "name": "python3"
  },
  "language_info": {
   "codemirror_mode": {
    "name": "ipython",
    "version": 3
   },
   "file_extension": ".py",
   "mimetype": "text/x-python",
   "name": "python",
   "nbconvert_exporter": "python",
   "pygments_lexer": "ipython3",
   "version": "3.11.9"
  }
 },
 "nbformat": 4,
 "nbformat_minor": 2
}
