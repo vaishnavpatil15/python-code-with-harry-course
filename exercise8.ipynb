{
 "cells": [
  {
   "cell_type": "code",
   "execution_count": 10,
   "metadata": {},
   "outputs": [
    {
     "name": "stdout",
     "output_type": "stream",
     "text": [
      "8\n",
      "\n"
     ]
    }
   ],
   "source": [
    "import pypdf as p\n",
    "reader=p.PdfReader('CSI members.pdf')\n",
    "print(len(reader.pages))\n",
    "page=reader.pages[0]\n",
    "print(page.extract_text())"
   ]
  },
  {
   "cell_type": "code",
   "execution_count": 12,
   "metadata": {},
   "outputs": [
    {
     "name": "stderr",
     "output_type": "stream",
     "text": [
      "C:\\Users\\HP\\AppData\\Local\\Temp\\ipykernel_27768\\3837672570.py:5: DeprecationWarning: PdfMerger is deprecated and will be removed in pypdf 5.0.0. Use PdfWriter instead.\n",
      "  merger=PdfMerger()\n"
     ]
    }
   ],
   "source": [
    "from pypdf import PdfMerger\n",
    "pdf1=\"CSI members.pdf\"\n",
    "pdf2=\"CSI members.pdf\"\n",
    "merged=\"mergedPdf.pdf\"\n",
    "merger=PdfMerger()\n",
    "merger.append(pdf1)\n",
    "merger.append(pdf2)\n",
    "\n",
    "newfile=open(merged,'wb')\n",
    "merger.write(merged)"
   ]
  }
 ],
 "metadata": {
  "kernelspec": {
   "display_name": "Python 3",
   "language": "python",
   "name": "python3"
  },
  "language_info": {
   "codemirror_mode": {
    "name": "ipython",
    "version": 3
   },
   "file_extension": ".py",
   "mimetype": "text/x-python",
   "name": "python",
   "nbconvert_exporter": "python",
   "pygments_lexer": "ipython3",
   "version": "3.11.9"
  }
 },
 "nbformat": 4,
 "nbformat_minor": 2
}
