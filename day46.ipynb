{
 "cells": [
  {
   "cell_type": "code",
   "execution_count": null,
   "metadata": {},
   "outputs": [],
   "source": [
    "import os\n",
    "if(not os.path.exists(\"os_module\")):\n",
    "    os.mkdir(\"os_module\")\n",
    "    for i in range(0,5):\n",
    "        os.mkdir(f\"os_module/file_{i}\")\n",
    "        \n",
    "for i in range(0,5):\n",
    "    os.rename(f\"os_module/file_{i}\", f\"os_module/code {i}\")\n",
    "\n",
    "print(\"Folder created successfully.\")"
   ]
  },
  {
   "cell_type": "code",
   "execution_count": null,
   "metadata": {},
   "outputs": [],
   "source": [
    "import os\n",
    "folders=os.listdir(\"os_module\")\n",
    "\n",
    "print(folders)\n",
    "for folder in folders:\n",
    "    print(folder)\n",
    "    print(os.listdir(f\"os_module/{folder}\"))"
   ]
  },
  {
   "cell_type": "code",
   "execution_count": null,
   "metadata": {},
   "outputs": [],
   "source": [
    "x=4\n",
    "\n",
    "def function():\n",
    "    global x  \n",
    "    x=9\n",
    "    print(x)\n",
    "\n",
    "print(x)\n",
    "function()\n",
    "print(x)"
   ]
  },
  {
   "cell_type": "code",
   "execution_count": 56,
   "metadata": {},
   "outputs": [
    {
     "name": "stdout",
     "output_type": "stream",
     "text": [
      "<_io.TextIOWrapper name='text.txt' mode='r' encoding='cp1252'>\n",
      "Hello, World! \n",
      "Hello, World! hello vaishnav! \n"
     ]
    }
   ],
   "source": [
    "#READ\n",
    "\n",
    "f=open('text.txt','r')\n",
    "text=f.read()\n",
    "print(f)\n",
    "\n",
    "#WRITE\n",
    "\n",
    "f=open('text.txt','w')\n",
    "f.write('Hello, World! ')\n",
    "# f.close()\n",
    "f=open('text.txt','r')\n",
    "print(f.read())\n",
    "\n",
    "#APPEND\n",
    "f=open('text.txt','a')\n",
    "f.write(\"hello vaishnav! \")\n",
    "f.close()\n",
    "f=open('text.txt','r')\n",
    "print(f.read())\n"
   ]
  },
  {
   "cell_type": "code",
   "execution_count": 70,
   "metadata": {},
   "outputs": [
    {
     "name": "stdout",
     "output_type": "stream",
     "text": [
      "STUDENT 1\n",
      "marks of student1 in maths are 24\n",
      "marks of student1 in science are 23\n",
      "marks of student1 in english are 21\n",
      "\n",
      "STUDENT 2\n",
      "marks of student2 in maths are 24\n",
      "marks of student2 in science are 20\n",
      "marks of student2 in english are 23\n",
      "\n",
      "STUDENT 3\n",
      "marks of student3 in maths are 20\n",
      "marks of student3 in science are 20\n",
      "marks of student3 in english are 20\n"
     ]
    },
    {
     "ename": "IndexError",
     "evalue": "list index out of range",
     "output_type": "error",
     "traceback": [
      "\u001b[1;31m---------------------------------------------------------------------------\u001b[0m",
      "\u001b[1;31mIndexError\u001b[0m                                Traceback (most recent call last)",
      "Cell \u001b[1;32mIn[70], line 7\u001b[0m\n\u001b[0;32m      5\u001b[0m line \u001b[38;5;241m=\u001b[39m f\u001b[38;5;241m.\u001b[39mreadline()\n\u001b[0;32m      6\u001b[0m m1\u001b[38;5;241m=\u001b[39mline\u001b[38;5;241m.\u001b[39msplit(\u001b[38;5;124m'\u001b[39m\u001b[38;5;124m,\u001b[39m\u001b[38;5;124m'\u001b[39m)[\u001b[38;5;241m0\u001b[39m]\n\u001b[1;32m----> 7\u001b[0m m2\u001b[38;5;241m=\u001b[39m\u001b[43mline\u001b[49m\u001b[38;5;241;43m.\u001b[39;49m\u001b[43msplit\u001b[49m\u001b[43m(\u001b[49m\u001b[38;5;124;43m'\u001b[39;49m\u001b[38;5;124;43m,\u001b[39;49m\u001b[38;5;124;43m'\u001b[39;49m\u001b[43m)\u001b[49m\u001b[43m[\u001b[49m\u001b[38;5;241;43m1\u001b[39;49m\u001b[43m]\u001b[49m\n\u001b[0;32m      8\u001b[0m m3\u001b[38;5;241m=\u001b[39mline\u001b[38;5;241m.\u001b[39msplit(\u001b[38;5;124m'\u001b[39m\u001b[38;5;124m,\u001b[39m\u001b[38;5;124m'\u001b[39m)[\u001b[38;5;241m2\u001b[39m]\n\u001b[0;32m      9\u001b[0m \u001b[38;5;28mprint\u001b[39m(\u001b[38;5;124mf\u001b[39m\u001b[38;5;124m\"\u001b[39m\u001b[38;5;124mSTUDENT \u001b[39m\u001b[38;5;132;01m{\u001b[39;00mi\u001b[38;5;132;01m}\u001b[39;00m\u001b[38;5;124m\"\u001b[39m)\n",
      "\u001b[1;31mIndexError\u001b[0m: list index out of range"
     ]
    }
   ],
   "source": [
    "f=open('myfile.txt','r')\n",
    "i=0\n",
    "while True:\n",
    "    i=i+1\n",
    "    line = f.readline()\n",
    "    m1=line.split(',')[0]\n",
    "    m2=line.split(',')[1]\n",
    "    m3=line.split(',')[2]\n",
    "    print(f\"STUDENT {i}\")\n",
    "    print(f\"marks of student{i} in maths are {m1}\")\n",
    "    print(f\"marks of student{i} in science are {m2}\")\n",
    "    print(f\"marks of student{i} in english are {m3}\")\n",
    "    if not line:\n",
    "        break\n",
    "    "
   ]
  }
 ],
 "metadata": {
  "kernelspec": {
   "display_name": "Python 3",
   "language": "python",
   "name": "python3"
  },
  "language_info": {
   "codemirror_mode": {
    "name": "ipython",
    "version": 3
   },
   "file_extension": ".py",
   "mimetype": "text/x-python",
   "name": "python",
   "nbconvert_exporter": "python",
   "pygments_lexer": "ipython3",
   "version": "3.11.9"
  }
 },
 "nbformat": 4,
 "nbformat_minor": 2
}
