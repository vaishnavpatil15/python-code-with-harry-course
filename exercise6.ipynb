{
 "cells": [
  {
   "cell_type": "code",
   "execution_count": 16,
   "metadata": {},
   "outputs": [
    {
     "name": "stdout",
     "output_type": "stream",
     "text": [
      "1\n",
      "List of books : \n",
      "ssss\n",
      "1\n",
      "List of books : \n",
      "ssss\n",
      "ssaaaa\n"
     ]
    }
   ],
   "source": [
    "class Library:\n",
    "    # books=[] ---> this willcreate a single list for all objects (libraries) thus make an instance variable\n",
    "    def __init__(self):\n",
    "        self.books=[]\n",
    "        self.n=0\n",
    "    \n",
    "    def addBooks(self):\n",
    "        n=int(input(\"Enter number of books \"))\n",
    "        print(n)\n",
    "        for i in range(n):\n",
    "            Library.books.append(input(\"enter book name :\"))\n",
    "\n",
    "    def showDetails(self):\n",
    "        print(\"List of books : \")\n",
    "        for i in Library.books:\n",
    "            print(i)\n",
    "\n",
    "\n",
    "l1=Library()\n",
    "l1.addBooks()\n",
    "l1.showDetails()\n",
    "\n",
    "l2=Library()\n",
    "l2.addBooks()\n",
    "l2.showDetails()\n",
    "  \n"
   ]
  }
 ],
 "metadata": {
  "kernelspec": {
   "display_name": "Python 3",
   "language": "python",
   "name": "python3"
  },
  "language_info": {
   "codemirror_mode": {
    "name": "ipython",
    "version": 3
   },
   "file_extension": ".py",
   "mimetype": "text/x-python",
   "name": "python",
   "nbconvert_exporter": "python",
   "pygments_lexer": "ipython3",
   "version": "3.11.9"
  }
 },
 "nbformat": 4,
 "nbformat_minor": 2
}
