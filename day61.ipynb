{
 "cells": [
  {
   "cell_type": "code",
   "execution_count": 4,
   "metadata": {},
   "outputs": [
    {
     "name": "stdout",
     "output_type": "stream",
     "text": [
      "Name : harry\n",
      "Age : 555\n",
      "\n",
      "Name : ram\n",
      "Age : 545\n",
      "\n",
      "i am a student\n"
     ]
    }
   ],
   "source": [
    "class Person:\n",
    "    def __init__(self,name,age):\n",
    "        self.name = name\n",
    "        self.age = age\n",
    "    def Display(self):\n",
    "        print(f\"Name : {self.name}\\nAge : {self.age}\\n\")\n",
    "    \n",
    "class Student(Person):\n",
    "    def Show(self):\n",
    "        print(\"i am a student\")\n",
    "\n",
    "\n",
    "p1=Person(\"harry\",555)\n",
    "p1.Display()\n",
    "p2=Student(\"ram\",545)\n",
    "p2.Display()\n",
    "p2.Show()"
   ]
  },
  {
   "cell_type": "code",
   "execution_count": null,
   "metadata": {},
   "outputs": [],
   "source": []
  },
  {
   "cell_type": "code",
   "execution_count": 3,
   "metadata": {},
   "outputs": [
    {
     "name": "stdout",
     "output_type": "stream",
     "text": [
      "3\n"
     ]
    }
   ],
   "source": [
    "class math:\n",
    "    def __init__(self,num):\n",
    "        self.num=num;\n",
    "\n",
    "    def addtonum(self,n):\n",
    "        self.num=self.num+n\n",
    "    \n",
    "    @staticmethod\n",
    "    def add(a,b):\n",
    "        return a+b\n",
    "\n",
    "\n",
    "a=math(5)\n",
    "print(a.num)\n",
    "a.addtonum(5)\n",
    "print(a.num)\n",
    "\n",
    "print(a.add(2,4))\n",
    "\n",
    "print(math.add(1,2))\n",
    "\n"
   ]
  },
  {
   "cell_type": "code",
   "execution_count": 22,
   "metadata": {},
   "outputs": [
    {
     "name": "stdout",
     "output_type": "stream",
     "text": [
      "The name of employee is harry and the company is google with 2000 salary \n",
      "The name of employee is rohan and the company is apple with 10000 salary \n"
     ]
    }
   ],
   "source": [
    "class Employee:\n",
    "    companyName=\"apple\"\n",
    "    def __init__(self,name):\n",
    "        self.name = name\n",
    "        self.salary=10000\n",
    "    \n",
    "    def showDetails(self):\n",
    "        print(f\"The name of employee is {self.name} and the company is {self.companyName} with {self.salary} salary \")\n",
    "\n",
    "\n",
    "\n",
    "emp1=Employee(\"harry\")\n",
    "emp1.companyName=\"google\"#here it became an instance variable but for emp2 no such instance variable declared so apple (class variable) is printed\n",
    "Employee.salary=5000 #not affected\n",
    "emp1.salary=2000\n",
    "\n",
    "# emp1.showDetails()\n",
    "# Employee.showDetails() ----> this gives an error as no argumrnts passed (self)\n",
    "Employee.showDetails(emp1)\n",
    "\n",
    "\n",
    "emp2=Employee(\"rohan\")\n",
    "emp2.showDetails()"
   ]
  },
  {
   "cell_type": "code",
   "execution_count": 3,
   "metadata": {},
   "outputs": [
    {
     "name": "stdout",
     "output_type": "stream",
     "text": [
      "the name of employee is harry and the company is apple\n",
      "the name of employee is harry and the company is tata\n",
      "apple\n",
      "the name of employee is harry and the company is tata\n",
      "tata\n",
      "tesla\n"
     ]
    }
   ],
   "source": [
    "class Employee:\n",
    "    companyName=\"apple\"\n",
    "    def showDetails(self):\n",
    "        print(f\"the name of employee is {self.name} and the company is {self.companyName}\")\n",
    "    @classmethod\n",
    "    def changeCompany(cls , companyName):\n",
    "        cls.companyName=companyName\n",
    "\n",
    "e1=Employee()\n",
    "e1.name=\"harry\"\n",
    "e1.showDetails()\n",
    "e1.companyName=\"tata\"\n",
    "e1.showDetails()\n",
    "print(Employee.companyName)\n",
    "e1.changeCompany(\"tesla\")\n",
    "e1.showDetails()\n",
    "print(e1.companyName)\n",
    "print(Employee.companyName)\n"
   ]
  },
  {
   "cell_type": "code",
   "execution_count": 10,
   "metadata": {},
   "outputs": [
    {
     "name": "stdout",
     "output_type": "stream",
     "text": [
      "the name of employee is harry shinde and the company is apple with salary  12000\n"
     ]
    }
   ],
   "source": [
    "class Employee:\n",
    "    companyName=\"apple\"\n",
    "    def __init__(self, name,sal):\n",
    "        self.name=name\n",
    "        self.salary=sal\n",
    "    def showDetails(self):\n",
    "        print(f\"the name of employee is {self.name} and the company is {self.companyName} with salary {self.salary}\")\n",
    "\n",
    "    @classmethod\n",
    "    def fromString(cls,string):\n",
    "        return cls(string.split(\"-\")[0],string.split(\"-\")[1])\n",
    "    \n",
    "string=\"harry-12000\"\n",
    "e1=Employee.fromString(\"harry shinde-12000\")\n",
    "\n",
    "e1.showDetails()"
   ]
  }
 ],
 "metadata": {
  "kernelspec": {
   "display_name": "Python 3",
   "language": "python",
   "name": "python3"
  },
  "language_info": {
   "codemirror_mode": {
    "name": "ipython",
    "version": 3
   },
   "file_extension": ".py",
   "mimetype": "text/x-python",
   "name": "python",
   "nbconvert_exporter": "python",
   "pygments_lexer": "ipython3",
   "version": "3.11.9"
  }
 },
 "nbformat": 4,
 "nbformat_minor": 2
}
