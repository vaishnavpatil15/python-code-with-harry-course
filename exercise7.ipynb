{
 "cells": [
  {
   "cell_type": "code",
   "execution_count": 16,
   "metadata": {},
   "outputs": [
    {
     "name": "stdout",
     "output_type": "stream",
     "text": [
      "created successfully\n"
     ]
    }
   ],
   "source": [
    "# CREATE FILES\n",
    "\n",
    "import os\n",
    "import random\n",
    "import string\n",
    "\n",
    "for i in range(20):\n",
    "    s=''.join(random.choices(string.ascii_letters + string.digits,k=5))+\".png\"\n",
    "    os.mkdir(f\"D:\\STUDY\\PYTHON\\exercise_7\\{s}\")\n",
    "\n",
    "for i in range(10):\n",
    "    s=''.join(random.choices(string.ascii_letters + string.digits,k=5))+\".pdf\"\n",
    "    os.mkdir(f\"D:\\STUDY\\PYTHON\\exercise_7\\{s}\")\n",
    "\n",
    "for i in range(20):\n",
    "    s=''.join(random.choices(string.ascii_letters + string.digits,k=5))+\".jpg\"\n",
    "    os.mkdir(f\"D:\\STUDY\\PYTHON\\exercise_7\\{s}\")\n",
    "\n",
    "print(\"created successfully\")"
   ]
  },
  {
   "cell_type": "code",
   "execution_count": 17,
   "metadata": {},
   "outputs": [
    {
     "name": "stdout",
     "output_type": "stream",
     "text": [
      "renamed successfully\n"
     ]
    }
   ],
   "source": [
    "# RENAME FILES\n",
    "\n",
    "import os\n",
    "folders=os.listdir(f\"D:\\STUDY\\PYTHON\\exercise_7\")\n",
    "x=0\n",
    "for i in folders:\n",
    "    \n",
    "    if i.endswith(\".png\" ):\n",
    "        x+=1\n",
    "        os.rename(f\"D:\\STUDY\\PYTHON\\exercise_7\\{i}\", f\"D:\\STUDY\\PYTHON\\exercise_7\\Day {x}.png\")\n",
    "print(\"renamed successfully\")\n"
   ]
  },
  {
   "cell_type": "code",
   "execution_count": 15,
   "metadata": {},
   "outputs": [
    {
     "name": "stdout",
     "output_type": "stream",
     "text": [
      "deleted successfully\n"
     ]
    }
   ],
   "source": [
    "# DELETE FILES\n",
    "\n",
    "import os\n",
    "folders=os.listdir(f\"D:\\STUDY\\PYTHON\\exercise_7\")\n",
    "for i in folders:\n",
    "    os.rmdir(f\"D:\\STUDY\\PYTHON\\exercise_7\\{i}\")\n",
    "\n",
    "print(\"deleted successfully\")\n"
   ]
  },
  {
   "cell_type": "code",
   "execution_count": null,
   "metadata": {},
   "outputs": [],
   "source": [
    "import os\n",
    "folders=os.listdir(f\"D:\\STUDY\\PYTHON\\exercise_7\")\n",
    "\n",
    "for i in range(len(folders)):\n",
    "    x=folders[i][-3:-1]+folders[i][-1]\n",
    "    print(x)\n",
    "    "
   ]
  },
  {
   "cell_type": "code",
   "execution_count": 8,
   "metadata": {},
   "outputs": [
    {
     "name": "stdout",
     "output_type": "stream",
     "text": [
      "ABCDEFGHIJKLMNOPQRSTUVWXYZ\n",
      "MO4Sw\n"
     ]
    }
   ],
   "source": [
    "import random\n",
    "import string\n",
    "\n",
    "s=''.join(random.choices(string.ascii_letters + string.digits,k=5))\n",
    "t=string.ascii_uppercase\n",
    "print(t)\n",
    "print(s)"
   ]
  }
 ],
 "metadata": {
  "kernelspec": {
   "display_name": "Python 3",
   "language": "python",
   "name": "python3"
  },
  "language_info": {
   "codemirror_mode": {
    "name": "ipython",
    "version": 3
   },
   "file_extension": ".py",
   "mimetype": "text/x-python",
   "name": "python",
   "nbconvert_exporter": "python",
   "pygments_lexer": "ipython3",
   "version": "3.11.9"
  }
 },
 "nbformat": 4,
 "nbformat_minor": 2
}
