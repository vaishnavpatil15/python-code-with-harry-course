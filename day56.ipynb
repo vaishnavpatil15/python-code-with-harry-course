{
 "cells": [
  {
   "cell_type": "code",
   "execution_count": 3,
   "metadata": {},
   "outputs": [
    {
     "name": "stdout",
     "output_type": "stream",
     "text": [
      "Name: harry, Occupation: developer\n",
      "Name: tom, Occupation: HR\n"
     ]
    }
   ],
   "source": [
    "class Person:\n",
    "    name= \"harry\"\n",
    "    occ=\"developer\"\n",
    "\n",
    "    def info(self):\n",
    "        print(f\"Name: {self.name}, Occupation: {self.occ}\")\n",
    "\n",
    "\n",
    "a=Person()\n",
    "a.info()\n",
    "a.name=\"tom\"\n",
    "a.occ=\"HR\"\n",
    "a.info()"
   ]
  },
  {
   "cell_type": "code",
   "execution_count": 4,
   "metadata": {},
   "outputs": [
    {
     "name": "stdout",
     "output_type": "stream",
     "text": [
      "Name: harry, Occupation: developer\n"
     ]
    }
   ],
   "source": [
    "class Person:\n",
    "    name= \"harry\"\n",
    "    occ=\"developer\"\n",
    "\n",
    "    def __init__ (self,a,b):\n",
    "        self.name=a\n",
    "        self.occ=b\n",
    "\n",
    "    def info(self):\n",
    "        print(f\"Name: {self.name}, Occupation: {self.occ}\")\n",
    "\n",
    "a=Person(\"harry\", \"developer\")\n",
    "a.info()\n",
    "\n"
   ]
  }
 ],
 "metadata": {
  "kernelspec": {
   "display_name": "Python 3",
   "language": "python",
   "name": "python3"
  },
  "language_info": {
   "codemirror_mode": {
    "name": "ipython",
    "version": 3
   },
   "file_extension": ".py",
   "mimetype": "text/x-python",
   "name": "python",
   "nbconvert_exporter": "python",
   "pygments_lexer": "ipython3",
   "version": "3.11.9"
  }
 },
 "nbformat": 4,
 "nbformat_minor": 2
}
