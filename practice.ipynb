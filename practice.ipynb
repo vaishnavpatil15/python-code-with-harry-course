{
 "cells": [
  {
   "cell_type": "code",
   "execution_count": 15,
   "metadata": {},
   "outputs": [
    {
     "name": "stdout",
     "output_type": "stream",
     "text": [
      "[6, 2]\n"
     ]
    }
   ],
   "source": [
    "l=list(input(\"enter list\"))\n",
    "target=int(input(\"target\"))\n",
    "# l=[1,2,3,4,5,6,7,8,9]\n",
    "# target=10\n",
    "result=[]\n",
    "def twosum():\n",
    "    for i in range(7):\n",
    "        for j in range(7):\n",
    "            if(l[i]+l[j]==target):\n",
    "                result=[i,j]\n",
    "                return result\n",
    "                \n",
    "print(twosum())"
   ]
  },
  {
   "cell_type": "code",
   "execution_count": null,
   "metadata": {},
   "outputs": [],
   "source": [
    "class person:\n",
    "    print(\"class\")\n",
    "    @getter(self)\n",
    "    def getter(self,val):\n",
    "        self.value=val\n",
    "\n",
    "\n",
    "a=person()\n",
    "a.getter(10)\n",
    "print(a.getter(10))\n"
   ]
  },
  {
   "cell_type": "code",
   "execution_count": 5,
   "metadata": {},
   "outputs": [
    {
     "name": "stdout",
     "output_type": "stream",
     "text": [
      "[[0, 0, 0], [0, 0, 1], [0, 1, 0], [1, 0, 0], [1, 1, 1]]\n"
     ]
    }
   ],
   "source": [
    "if __name__ == '__main__':\n",
    "    x = int(input())\n",
    "    y = int(input())\n",
    "    z = int(input())\n",
    "    n = int(input())\n",
    "    newlst=[]\n",
    "    xl=range(x+1)\n",
    "    yl=range(y+1)\n",
    "    zl=range(z+1)\n",
    "    \n",
    "    lst = [[xi,yi,zi] for xi in xl for yi in yl for zi in zl]\n",
    "    \n",
    "    # print(lst)\n",
    "\n",
    "\n",
    "    for i in lst:\n",
    "        sum=0\n",
    "        for j in i:\n",
    "            sum=sum+j      \n",
    "        if sum!=n:\n",
    "            newlst.append(i)\n",
    "\n",
    "    \n",
    "    print(newlst)\n",
    "\n",
    "\n",
    "\n"
   ]
  },
  {
   "cell_type": "code",
   "execution_count": 6,
   "metadata": {},
   "outputs": [
    {
     "name": "stdout",
     "output_type": "stream",
     "text": [
      "[2, 3, 5, 4, 6, 7, 1, 9, 8]\n",
      "[1, 2, 3, 4, 5, 6, 7, 8, 9]\n"
     ]
    }
   ],
   "source": [
    "l=[2,3,5,4,6,7,1,9,8]\n",
    "print(l)\n",
    "\n",
    "l.sort()\n",
    "print(l)\n",
    "\n"
   ]
  },
  {
   "cell_type": "code",
   "execution_count": 10,
   "metadata": {},
   "outputs": [
    {
     "name": "stdout",
     "output_type": "stream",
     "text": [
      "a\n"
     ]
    },
    {
     "ename": "IndexError",
     "evalue": "list assignment index out of range",
     "output_type": "error",
     "traceback": [
      "\u001b[1;31m---------------------------------------------------------------------------\u001b[0m",
      "\u001b[1;31mIndexError\u001b[0m                                Traceback (most recent call last)",
      "Cell \u001b[1;32mIn[10], line 7\u001b[0m\n\u001b[0;32m      5\u001b[0m \u001b[38;5;28;01mif\u001b[39;00m(s[i]\u001b[38;5;241m==\u001b[39ms[n\u001b[38;5;241m-\u001b[39mi\u001b[38;5;241m-\u001b[39m\u001b[38;5;241m1\u001b[39m]):\n\u001b[0;32m      6\u001b[0m     \u001b[38;5;28mprint\u001b[39m(s[i])\n\u001b[1;32m----> 7\u001b[0m     \u001b[43ma\u001b[49m\u001b[43m[\u001b[49m\u001b[43mi\u001b[49m\u001b[43m]\u001b[49m\u001b[38;5;241m=\u001b[39ms[i]\n\u001b[0;32m      8\u001b[0m \u001b[38;5;28;01melse\u001b[39;00m:\n\u001b[0;32m      9\u001b[0m     n\u001b[38;5;241m=\u001b[39mn\u001b[38;5;241m+\u001b[39m\u001b[38;5;241m1\u001b[39m\n",
      "\u001b[1;31mIndexError\u001b[0m: list assignment index out of range"
     ]
    }
   ],
   "source": [
    "s=input()\n",
    "n=len(s)\n",
    "a=[]\n",
    "for i in range(n):\n",
    "    if(s[i]==s[n-i-1]):\n",
    "        print(s[i])\n",
    "        a[i]=s[i]\n",
    "    else:\n",
    "        n=n+1\n",
    "        s=s+s[i]\n",
    "        print(s[i])\n",
    "        a[i]=s[i]\n",
    "\n",
    "for x in range(n):\n",
    "    print(a[n-x-1])\n"
   ]
  },
  {
   "cell_type": "code",
   "execution_count": 3,
   "metadata": {},
   "outputs": [
    {
     "name": "stdout",
     "output_type": "stream",
     "text": [
      "10\n"
     ]
    }
   ],
   "source": [
    "s=\"hsdskhgftd\"\n",
    "n=len(s)\n",
    "print(n)"
   ]
  }
 ],
 "metadata": {
  "kernelspec": {
   "display_name": "Python 3",
   "language": "python",
   "name": "python3"
  },
  "language_info": {
   "codemirror_mode": {
    "name": "ipython",
    "version": 3
   },
   "file_extension": ".py",
   "mimetype": "text/x-python",
   "name": "python",
   "nbconvert_exporter": "python",
   "pygments_lexer": "ipython3",
   "version": "3.11.9"
  }
 },
 "nbformat": 4,
 "nbformat_minor": 2
}
