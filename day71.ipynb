{
 "cells": [
  {
   "cell_type": "code",
   "execution_count": null,
   "metadata": {},
   "outputs": [],
   "source": [
    "x=[1,2,3]\n",
    "print(dir(x))\n",
    "print(x.__add__)\n",
    "\n",
    "class Person:\n",
    "    def __init__(self,name ,age):\n",
    "        self.name = name\n",
    "        self.age = age\n",
    "p=Person(\"jhon\",25)\n",
    "print(\"\\n\\n\" , p.__dict__ ,\"\\n\\n\")\n",
    "\n",
    "print(help(Person))"
   ]
  },
  {
   "cell_type": "code",
   "execution_count": 11,
   "metadata": {},
   "outputs": [
    {
     "name": "stdout",
     "output_type": "stream",
     "text": [
      "harry\n",
      "I am a parent method\n"
     ]
    }
   ],
   "source": [
    "class Parent_class:\n",
    "    def parent_method(self):\n",
    "        print(\"I am a parent method\")\n",
    "    \n",
    "\n",
    "class Child_class(Parent_class):\n",
    "    def child_method(self):\n",
    "        print(\"I am a child method\")\n",
    "        super().parent_method()\n",
    "    def parent_method(self):\n",
    "        print(\"harry\")\n",
    "        super().parent_method()\n",
    "c_obj=Child_class()\n",
    "\n",
    "# c_obj.child_method()\n",
    "c_obj.parent_method()\n",
    "\n"
   ]
  },
  {
   "cell_type": "code",
   "execution_count": 19,
   "metadata": {},
   "outputs": [
    {
     "name": "stdout",
     "output_type": "stream",
     "text": [
      "{'name': 'harry', 'id': 666, 'language': 'python'}\n"
     ]
    }
   ],
   "source": [
    "class Employee:\n",
    "    def __init__(self,name,id):\n",
    "        self.name = name\n",
    "        self.id = id\n",
    "\n",
    "class Programmer(Employee):\n",
    "    def __init__(self,name,id,lang):\n",
    "        super().__init__( name ,id)\n",
    "        self.language = lang\n",
    "\n",
    "rohan=Employee(\"rohan das\",145)\n",
    "harry=Programmer(\"harry\",666, \"python\")\n",
    "\n",
    "print(harry.__dict__)\n"
   ]
  },
  {
   "cell_type": "code",
   "execution_count": 4,
   "metadata": {},
   "outputs": [
    {
     "name": "stdout",
     "output_type": "stream",
     "text": [
      "Person\n",
      "6\n"
     ]
    }
   ],
   "source": [
    "class Person:\n",
    "    def __init__(self,name):\n",
    "        self.name = name\n",
    "\n",
    "    def __len__(self):\n",
    "        i=0\n",
    "        for c in self.name:\n",
    "            i=i+1\n",
    "        return i\n",
    "\n",
    "    def __str__(self):\n",
    "        return f\"the name of the person is {self.name}\"\n",
    "    \n",
    "    \n",
    "\n",
    "e=Person(\"Person\")\n",
    "print(e.name)\n",
    "# print(e.__len__())\n",
    "print(len(e))"
   ]
  },
  {
   "cell_type": "code",
   "execution_count": 6,
   "metadata": {},
   "outputs": [
    {
     "name": "stdout",
     "output_type": "stream",
     "text": [
      "the name of the person is person\n"
     ]
    }
   ],
   "source": [
    "# from day71 import Person\n",
    "e=Person(\"person\")\n",
    "print(e)"
   ]
  },
  {
   "cell_type": "code",
   "execution_count": 10,
   "metadata": {},
   "outputs": [
    {
     "name": "stdout",
     "output_type": "stream",
     "text": [
      "15\n",
      "78.5\n"
     ]
    }
   ],
   "source": [
    "class Shape:\n",
    "    def __init__(self,x,y):\n",
    "        self.x = x\n",
    "        self.y = y\n",
    "    def area(self):\n",
    "        return self.x * self.y\n",
    "    \n",
    "class Circle(Shape):\n",
    "    def __init__(self,rad):\n",
    "        self.radius=rad\n",
    "        super().__init__(self.radius,self.radius)\n",
    "\n",
    "    def area(self):\n",
    "        # return 3.14 * self.radius * self.radius\n",
    "        return 3.14 * super().area()\n",
    "    \n",
    "rec=Shape(3,5)\n",
    "print(rec.area())\n",
    "c=Circle(5)\n",
    "\n",
    "print(c.area())"
   ]
  }
 ],
 "metadata": {
  "kernelspec": {
   "display_name": "Python 3",
   "language": "python",
   "name": "python3"
  },
  "language_info": {
   "codemirror_mode": {
    "name": "ipython",
    "version": 3
   },
   "file_extension": ".py",
   "mimetype": "text/x-python",
   "name": "python",
   "nbconvert_exporter": "python",
   "pygments_lexer": "ipython3",
   "version": "3.11.9"
  }
 },
 "nbformat": 4,
 "nbformat_minor": 2
}
